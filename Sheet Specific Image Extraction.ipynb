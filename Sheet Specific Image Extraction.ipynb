{
 "cells": [
  {
   "cell_type": "code",
   "execution_count": 70,
   "id": "339930d6",
   "metadata": {},
   "outputs": [
    {
     "data": {
      "text/plain": [
       "[WindowsPath('C:/Users/Subhadeep/Downloads/bartrack_mns_images/multi table oxford sheet-1.png'),\n",
       " WindowsPath('C:/Users/Subhadeep/Downloads/bartrack_mns_images/multi table oxford sheet-2.png'),\n",
       " WindowsPath('C:/Users/Subhadeep/Downloads/bartrack_mns_images/multi table oxford sheet-3.png'),\n",
       " WindowsPath('C:/Users/Subhadeep/Downloads/bartrack_mns_images/multi table oxford sheet-4.png'),\n",
       " WindowsPath('C:/Users/Subhadeep/Downloads/bartrack_mns_images/multi table oxford sheet-5.png')]"
      ]
     },
     "execution_count": 70,
     "metadata": {},
     "output_type": "execute_result"
    }
   ],
   "source": [
    "import os\n",
    "import shutil\n",
    "import pathlib\n",
    "import zipfile\n",
    "\n",
    "def extract_images_from_excel(path, output_folder_name='extracted_images'):\n",
    "    \"\"\"\n",
    "    Extracts images from an Excel file and stores them in a single folder.\n",
    "\n",
    "    Args:\n",
    "        path (pathlib.Path or str): Excel file path.\n",
    "        output_folder_name (str): Name of the folder to store the extracted images.\n",
    "            Defaults to 'extracted_images'.\n",
    "\n",
    "    Returns:\n",
    "        new_paths (list[pathlib.Path]): List of paths to the extracted images.\n",
    "    \"\"\"\n",
    "    # Convert path to pathlib.Path if it's a string\n",
    "    if isinstance(path, str):\n",
    "        path = pathlib.Path(path)\n",
    "\n",
    "    # Check if the file has the '.xlsx' extension\n",
    "    if path.suffix != '.xlsx':\n",
    "        raise ValueError('Path must be an xlsx file')\n",
    "\n",
    "    # Extract the filename (excluding the extension) using .stem\n",
    "    name = path.stem\n",
    "\n",
    "    # Create a new folder for the extracted images\n",
    "    output_folder = path.parent / output_folder_name\n",
    "    output_folder.mkdir(exist_ok=True)  # Create folder if it doesn't exist\n",
    "\n",
    "    # Create a temporary directory for unzipping the Excel file\n",
    "    temp_dir = path.parent / 'temp'\n",
    "    temp_dir.mkdir(exist_ok=True)  # Create folder if it doesn't exist\n",
    "\n",
    "    try:\n",
    "        # Unzip the Excel file into the temporary directory\n",
    "        with zipfile.ZipFile(path, 'r') as zip_ref:\n",
    "            zip_ref.extractall(temp_dir)\n",
    "\n",
    "        # Locate the 'media' directory within the unzipped content\n",
    "        media_dir = temp_dir / 'xl' / 'media'\n",
    "\n",
    "        image_index = 0  # Initialize an index for the images\n",
    "        new_paths = []  # List to store the paths of the extracted images\n",
    "\n",
    "        # Iterate through the files in the 'media' directory\n",
    "        for root, dirs, files in os.walk(media_dir):\n",
    "            for file in files:\n",
    "                image_index += 1  # Increment the image index for each image found\n",
    "\n",
    "                # Construct paths for the original image and the new destination\n",
    "                image_path = pathlib.Path(root) / file\n",
    "                new_path = output_folder / f'{name}-{str(image_index)}.png'\n",
    "\n",
    "                # Copy the image to the output folder with a new name\n",
    "                shutil.copy(image_path, new_path)\n",
    "\n",
    "                # Store the new path in the list\n",
    "                new_paths.append(new_path)\n",
    "\n",
    "    finally:\n",
    "        # Cleanup: Remove the temporary directory\n",
    "        shutil.rmtree(temp_dir)\n",
    "\n",
    "    # Return the list of paths to the extracted images\n",
    "    return new_paths\n",
    "path=r\"C:\\Users\\Subhadeep\\Downloads\\multi table oxford sheet.xlsx\"\n",
    "extract_images_from_excel(path, output_folder_name='bartrack_mns_images')\n",
    "\n",
    "\n"
   ]
  },
  {
   "cell_type": "code",
   "execution_count": null,
   "id": "6ba7023b",
   "metadata": {},
   "outputs": [],
   "source": []
  },
  {
   "cell_type": "code",
   "execution_count": 20,
   "id": "8b5b3fe2",
   "metadata": {},
   "outputs": [],
   "source": [
    "import os\n",
    "import zipfile\n",
    "from openpyxl import load_workbook\n",
    "\n",
    "# Path to the Excel file\n",
    "excel_file_path = r\"C:\\Users\\Subhadeep\\Downloads\\multi table oxford sheet.xlsx\"\n",
    "\n",
    "# Directory to extract contents\n",
    "extracted_dir = 'C:/Users/Subhadeep/Downloads/extracted_contents'\n",
    "\n",
    "# Create a directory to extract contents\n",
    "os.makedirs(extracted_dir, exist_ok=True)\n",
    "\n",
    "# Extract the contents of the Excel file\n",
    "with zipfile.ZipFile(excel_file_path, \"r\") as zip_ref:\n",
    "    zip_ref.extractall(extracted_dir)\n",
    "\n"
   ]
  },
  {
   "cell_type": "code",
   "execution_count": 21,
   "id": "ff669a79",
   "metadata": {},
   "outputs": [
    {
     "name": "stderr",
     "output_type": "stream",
     "text": [
      "DEPRECATION: pyodbc 4.0.0-unsupported has a non-standard version number. pip 24.1 will enforce this behaviour change. A possible replacement is to upgrade to a newer version of pyodbc or contact the author to suggest that they release a version with a conforming version number. Discussion can be found at https://github.com/pypa/pip/issues/12063"
     ]
    },
    {
     "name": "stdout",
     "output_type": "stream",
     "text": [
      "Requirement already satisfied: xlwings in c:\\users\\subhadeep\\anaconda3\\lib\\site-packages (0.24.9)\n",
      "Requirement already satisfied: pywin32>=224 in c:\\users\\subhadeep\\anaconda3\\lib\\site-packages (from xlwings) (306)\n"
     ]
    },
    {
     "name": "stderr",
     "output_type": "stream",
     "text": [
      "\n"
     ]
    }
   ],
   "source": [
    "!pip install xlwings\n"
   ]
  },
  {
   "cell_type": "markdown",
   "id": "0ba61070",
   "metadata": {},
   "source": [
    "## Split workbook"
   ]
  },
  {
   "cell_type": "code",
   "execution_count": 65,
   "id": "7c51b8a4",
   "metadata": {},
   "outputs": [],
   "source": [
    "import xlwings as xw\n",
    "import os\n",
    "\n",
    "def split_workbook(excel_file_path):\n",
    "    wb = xw.Book(excel_file_path)\n",
    "    output_dir = os.path.join(os.path.dirname(excel_file_path), \"Split_Worksheets\")\n",
    "    os.makedirs(output_dir, exist_ok=True)\n",
    "    for sheet in wb.sheets:\n",
    "    # Create a new workbook\n",
    "        new_wb = xw.Book()\n",
    "        new_ws = new_wb.sheets[0]\n",
    "        sheet.api.Copy(Before=new_ws.api)\n",
    "        output_file_path = os.path.join(output_dir, f\"{sheet.name}.xlsx\")\n",
    "        new_wb.save(output_file_path)\n",
    "        new_wb.close()\n",
    "    \n",
    "    \n",
    "\n",
    "    \n",
    "    "
   ]
  },
  {
   "cell_type": "code",
   "execution_count": 67,
   "id": "968cab60",
   "metadata": {},
   "outputs": [],
   "source": [
    "split_workbook(r\"C:\\Users\\Subhadeep\\Downloads\\Bartrack Files\\mns bartrack.xlsx\")"
   ]
  },
  {
   "cell_type": "markdown",
   "id": "80d19870",
   "metadata": {},
   "source": [
    "## Extract Specific Sheet"
   ]
  },
  {
   "cell_type": "code",
   "execution_count": 68,
   "id": "3c7889df",
   "metadata": {},
   "outputs": [],
   "source": [
    "def split_specific_sheet(excel_file_path, sheet_name):\n",
    "    wb = xw.Book(excel_file_path)\n",
    "    output_dir = os.path.join(os.path.dirname(excel_file_path), \"Split_Specific_Sheet\")\n",
    "    os.makedirs(output_dir, exist_ok=True)\n",
    "    \n",
    "    sheet = wb.sheets[sheet_name]\n",
    "    \n",
    "    # Create a new workbook\n",
    "    new_wb = xw.Book()\n",
    "    new_ws = new_wb.sheets[0]\n",
    "    sheet.api.Copy(Before=new_ws.api)\n",
    "    \n",
    "    output_file_path = os.path.join(output_dir, f\"{sheet_name}.xlsx\")\n",
    "    new_wb.save(output_file_path)\n",
    "    new_wb.close()"
   ]
  },
  {
   "cell_type": "code",
   "execution_count": 69,
   "id": "b1011506",
   "metadata": {},
   "outputs": [],
   "source": [
    "split_specific_sheet(r\"C:\\Users\\Subhadeep\\Downloads\\Bartrack Files\\mns bartrack.xlsx\", 'MNS0001')"
   ]
  },
  {
   "cell_type": "code",
   "execution_count": null,
   "id": "ae8d4653",
   "metadata": {},
   "outputs": [],
   "source": [
    "extract_images_from_excel()"
   ]
  },
  {
   "cell_type": "markdown",
   "id": "b99b5f1f",
   "metadata": {},
   "source": [
    "## Extract Image from specific sheet"
   ]
  },
  {
   "cell_type": "code",
   "execution_count": 76,
   "id": "2859ae6f",
   "metadata": {},
   "outputs": [],
   "source": [
    "import os\n",
    "import shutil\n",
    "import zipfile\n",
    "import pathlib\n",
    "import xlwings as xw\n",
    "\n",
    "def split_specific_sheet(excel_file_path, sheet_name):\n",
    "    \"\"\"\n",
    "    Splits a specific sheet of an Excel file into a separate workbook.\n",
    "\n",
    "    Args:\n",
    "        excel_file_path (str): Excel file path.\n",
    "        sheet_name (str): Name of the specific sheet to split.\n",
    "    \"\"\"\n",
    "    # Open the Excel workbook\n",
    "    wb = xw.Book(excel_file_path)\n",
    "    \n",
    "    try:\n",
    "        # Find the specific sheet\n",
    "        sheet = wb.sheets[sheet_name]\n",
    "        \n",
    "        # Create a new workbook\n",
    "        new_wb = xw.Book()\n",
    "        \n",
    "        try:\n",
    "            # Copy the specific sheet to the new workbook\n",
    "            sheet.api.Copy(Before=new_wb.sheets[0].api)\n",
    "        except Exception as e:\n",
    "            print(f\"Failed to copy sheet: {e}\")\n",
    "        finally:\n",
    "            # Save and close the new workbook\n",
    "            new_wb.save(os.path.join(os.path.dirname(excel_file_path), f\"{sheet_name}.xlsx\"))\n",
    "            new_wb.close()\n",
    "    except KeyError:\n",
    "        print(f\"Sheet '{sheet_name}' not found in the workbook.\")\n",
    "\n",
    "def extract_images_from_excel(path, output_folder_name='extracted_images'):\n",
    "    \"\"\"\n",
    "    Extracts images from an Excel file and stores them in a single folder.\n",
    "\n",
    "    Args:\n",
    "        path (pathlib.Path or str): Excel file path.\n",
    "        output_folder_name (str): Name of the folder to store the extracted images.\n",
    "            Defaults to 'extracted_images'.\n",
    "\n",
    "    Returns:\n",
    "        new_paths (list[pathlib.Path]): List of paths to the extracted images.\n",
    "    \"\"\"\n",
    "    # Convert path to pathlib.Path if it's a string\n",
    "    if isinstance(path, str):\n",
    "        path = pathlib.Path(path)\n",
    "\n",
    "    # Check if the file has the '.xlsx' extension\n",
    "    if path.suffix != '.xlsx':\n",
    "        raise ValueError('Path must be an xlsx file')\n",
    "\n",
    "    # Extract the filename (excluding the extension) using .stem\n",
    "    name = path.stem\n",
    "\n",
    "    # Create a new folder for the extracted images\n",
    "    output_folder = path.parent / output_folder_name\n",
    "    output_folder.mkdir(exist_ok=True)  # Create folder if it doesn't exist\n",
    "\n",
    "    # Create a temporary directory for unzipping the Excel file\n",
    "    temp_dir = path.parent / 'temp'\n",
    "    temp_dir.mkdir(exist_ok=True)  # Create folder if it doesn't exist\n",
    "\n",
    "    try:\n",
    "        # Unzip the Excel file into the temporary directory\n",
    "        with zipfile.ZipFile(path, 'r') as zip_ref:\n",
    "            zip_ref.extractall(temp_dir)\n",
    "\n",
    "        # Locate the 'media' directory within the unzipped content\n",
    "        media_dir = temp_dir / 'xl' / 'media'\n",
    "\n",
    "        image_index = 0  # Initialize an index for the images\n",
    "        new_paths = []  # List to store the paths of the extracted images\n",
    "\n",
    "        # Iterate through the files in the 'media' directory\n",
    "        for root, dirs, files in os.walk(media_dir):\n",
    "            for file in files:\n",
    "                image_index += 1  # Increment the image index for each image found\n",
    "\n",
    "                # Construct paths for the original image and the new destination\n",
    "                image_path = pathlib.Path(root) / file\n",
    "                new_path = output_folder / f'{name}-{str(image_index)}.png'\n",
    "\n",
    "                # Copy the image to the output folder with a new name\n",
    "                shutil.copy(image_path, new_path)\n",
    "\n",
    "                # Store the new path in the list\n",
    "                new_paths.append(new_path)\n",
    "\n",
    "    finally:\n",
    "        # Cleanup: Remove the temporary directory\n",
    "        shutil.rmtree(temp_dir)\n",
    "\n",
    "    # Return the list of paths to the extracted images\n",
    "    return new_paths\n",
    "\n",
    "def split_and_extract_images_from_specific_sheet(excel_file_path, sheet_name):\n",
    "    \"\"\"\n",
    "    Splits a specific sheet of an Excel file into a separate workbook and extracts images from that workbook.\n",
    "\n",
    "    Args:\n",
    "        excel_file_path (str): Excel file path.\n",
    "        sheet_name (str): Name of the specific sheet to split and extract images from.\n",
    "    \"\"\"\n",
    "    # Split the specific sheet into a separate workbook\n",
    "    split_specific_sheet(excel_file_path, sheet_name)\n",
    "    \n",
    "    # Get the path to the newly created workbook\n",
    "    split_workbook_path = os.path.join(os.path.dirname(excel_file_path), f\"{sheet_name}.xlsx\")\n",
    "    \n",
    "    # Extract images from the newly created workbook\n",
    "    extract_images_from_excel(split_workbook_path,sheet_name)\n",
    "\n",
    "# Example usage\n",
    "excel_file_path = r\"C:\\Users\\Subhadeep\\Downloads\\Bartrack Files\\mns bartrack.xlsx\"\n",
    "sheet_name = \"MNS0001\"  # Specify the name of the sheet containing the images\n",
    "split_and_extract_images_from_specific_sheet(excel_file_path, sheet_name)\n"
   ]
  },
  {
   "cell_type": "code",
   "execution_count": null,
   "id": "fee19581",
   "metadata": {},
   "outputs": [],
   "source": []
  }
 ],
 "metadata": {
  "kernelspec": {
   "display_name": "Python 3 (ipykernel)",
   "language": "python",
   "name": "python3"
  },
  "language_info": {
   "codemirror_mode": {
    "name": "ipython",
    "version": 3
   },
   "file_extension": ".py",
   "mimetype": "text/x-python",
   "name": "python",
   "nbconvert_exporter": "python",
   "pygments_lexer": "ipython3",
   "version": "3.11.5"
  }
 },
 "nbformat": 4,
 "nbformat_minor": 5
}
